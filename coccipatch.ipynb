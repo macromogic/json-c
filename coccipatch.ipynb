{
 "cells": [
  {
   "cell_type": "code",
   "execution_count": null,
   "id": "764c88a3",
   "metadata": {},
   "outputs": [],
   "source": [
    "cocci = ''.join(open(os.path.abspath('./patch.cocci')).readlines())\n",
    "\n",
    "def modify_src(source, verbose=False):\n",
    "    if verbose:\n",
    "        pprint(source)\n",
    "    patch = cocci\n",
    "    f = open('.temp.cocci', 'w')\n",
    "    f.write(''.join(patch))\n",
    "    f.close()\n",
    "    execute = '/usr/local/bin/spatch -sp_file .temp.cocci -in_place %s >/dev/null 2>/dev/null' % source\n",
    "    if verbose:\n",
    "        execute = '/usr/local/bin/spatch -sp_file .temp.cocci %s' % source\n",
    "    os.system(execute)\n",
    "    \n",
    "modify_src(os.path.abspath('./json_tokener.c'), verbose=True)"
   ]
  },
  {
   "cell_type": "code",
   "execution_count": null,
   "id": "965bd57a",
   "metadata": {},
   "outputs": [],
   "source": [
    "import json, os, sys\n",
    "from pprint import pprint\n",
    "\n",
    "print(\"cwd = %s\" % os.getcwd())"
   ]
  },
  {
   "cell_type": "code",
   "execution_count": null,
   "id": "90d5f6ee-dbc7-44e3-8d44-cf63b7c11a7f",
   "metadata": {},
   "outputs": [],
   "source": []
  }
 ],
 "metadata": {
  "kernelspec": {
   "display_name": "Python 3 (ipykernel)",
   "language": "python",
   "name": "python3"
  },
  "language_info": {
   "codemirror_mode": {
    "name": "ipython",
    "version": 3
   },
   "file_extension": ".py",
   "mimetype": "text/x-python",
   "name": "python",
   "nbconvert_exporter": "python",
   "pygments_lexer": "ipython3",
   "version": "3.8.16"
  }
 },
 "nbformat": 4,
 "nbformat_minor": 5
}
